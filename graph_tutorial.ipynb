{
 "cells": [
  {
   "cell_type": "markdown",
   "metadata": {},
   "source": [
    "# H1st Graph Guide"
   ]
  },
  {
   "cell_type": "markdown",
   "metadata": {},
   "source": [
    "H1st Graph は機械学習および人のエキスパートモデルを組み込むことができる一種のフローチャートです。\n",
    "\n",
    "この単純なGraphの例は、入力データの偶数に対してHelloと出力します。HelloPrinterはActionノードを継承したノードです。"
   ]
  },
  {
   "cell_type": "code",
   "execution_count": 1,
   "metadata": {
    "tags": []
   },
   "outputs": [
    {
     "name": "stderr",
     "output_type": "stream",
     "text": [
      "2023-02-17 10:09:46.723407: I tensorflow/core/platform/cpu_feature_guard.cc:193] This TensorFlow binary is optimized with oneAPI Deep Neural Network Library (oneDNN) to use the following CPU instructions in performance-critical operations:  AVX2 FMA\n",
      "To enable them in other operations, rebuild TensorFlow with the appropriate compiler flags.\n",
      "2023-02-17 10:09:46.822035: W tensorflow/compiler/xla/stream_executor/platform/default/dso_loader.cc:64] Could not load dynamic library 'libcudart.so.11.0'; dlerror: libcudart.so.11.0: cannot open shared object file: No such file or directory\n",
      "2023-02-17 10:09:46.822054: I tensorflow/compiler/xla/stream_executor/cuda/cudart_stub.cc:29] Ignore above cudart dlerror if you do not have a GPU set up on your machine.\n",
      "2023-02-17 10:09:47.381567: W tensorflow/compiler/xla/stream_executor/platform/default/dso_loader.cc:64] Could not load dynamic library 'libnvinfer.so.7'; dlerror: libnvinfer.so.7: cannot open shared object file: No such file or directory\n",
      "2023-02-17 10:09:47.381627: W tensorflow/compiler/xla/stream_executor/platform/default/dso_loader.cc:64] Could not load dynamic library 'libnvinfer_plugin.so.7'; dlerror: libnvinfer_plugin.so.7: cannot open shared object file: No such file or directory\n",
      "2023-02-17 10:09:47.381633: W tensorflow/compiler/tf2tensorrt/utils/py_utils.cc:38] TF-TRT Warning: Cannot dlopen some TensorRT libraries. If you would like to use Nvidia GPU with TensorRT, please make sure the missing libraries mentioned above are installed properly.\n"
     ]
    }
   ],
   "source": [
    "from h1st.h1flow.h1flow import Graph\n",
    "from h1st.h1flow.h1step import Action, Decision, NoOp\n",
    "from rule_based_model import SimpleRuleBasedModel\n",
    "\n",
    "class HelloPrinter(Action):\n",
    "    \"\"\"Print hello to the inputs value\"\"\"\n",
    "\n",
    "    def call(self, command, inputs):\n",
    "        # H1stは既に条件フィルタリングを済ませているので、\n",
    "        # ここでは単にprintするだけで良い。\n",
    "        for d in inputs[\"predictions\"]:\n",
    "            print(\"Hello world {}!\".format(d[\"value\"]))"
   ]
  },
  {
   "cell_type": "markdown",
   "metadata": {},
   "source": [
    "Graphはadd()関数でノードを順次追加することで作成します。\n",
    "\n",
    "最初のブランチはDecision()であり、これはRuleBasedModelの予測に基づいて入力を'yes'か'no'にリダイレクトします。\n",
    "\n",
    "In terms of data flow, the RuleBasedModel node produces a dict of which is then used by `h1.Decision` to redirect the data stream by looking at the `result_field=predictions` dict key.\n",
    "\n",
    "H1st graph by default operates in batch mode, meaning that `h1.Decision` looks at `{\"predictions\": [{\"prediciton\": True, ...}, {\"prediction\": False, }]}` and redirect True/False decision points to the to the right `yes/no` branch as a list."
   ]
  },
  {
   "cell_type": "code",
   "execution_count": 2,
   "metadata": {
    "tags": []
   },
   "outputs": [],
   "source": [
    "def create_graph():\n",
    "    \"\"\"Create a graph which prints hello for each even number x in the input stream,\n",
    "    using a conditional RuleBasedModel node and a HelloPrinter h1.Action.\"\"\"\n",
    "    graph = Graph()\n",
    "    graph.start() \\\n",
    "        .add(Decision(SimpleRuleBasedModel(), result_field=\"predictions\")) \\\n",
    "        .add(yes=HelloPrinter(), no=NoOp())\n",
    "    graph.end()\n",
    "    return graph"
   ]
  },
  {
   "cell_type": "code",
   "execution_count": 3,
   "metadata": {
    "tags": []
   },
   "outputs": [
    {
     "name": "stdout",
     "output_type": "stream",
     "text": [
      "Hello world 0!\n",
      "Hello world 2!\n",
      "Hello world 4!\n"
     ]
    }
   ],
   "source": [
    "generated_graph = create_graph()\n",
    "results = generated_graph.predict({\"values\": range(6)})"
   ]
  },
  {
   "cell_type": "code",
   "execution_count": null,
   "metadata": {},
   "outputs": [],
   "source": []
  }
 ],
 "metadata": {
  "kernelspec": {
   "display_name": "Python 3 (ipykernel)",
   "language": "python",
   "name": "python3"
  },
  "language_info": {
   "codemirror_mode": {
    "name": "ipython",
    "version": 3
   },
   "file_extension": ".py",
   "mimetype": "text/x-python",
   "name": "python",
   "nbconvert_exporter": "python",
   "pygments_lexer": "ipython3",
   "version": "3.10.6"
  }
 },
 "nbformat": 4,
 "nbformat_minor": 4
}
