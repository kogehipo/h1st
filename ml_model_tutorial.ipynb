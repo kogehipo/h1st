{
 "cells": [
  {
   "cell_type": "markdown",
   "metadata": {},
   "source": [
    "# H1st ML Model Guide"
   ]
  },
  {
   "cell_type": "markdown",
   "metadata": {},
   "source": [
    "The H1st Model is one of the core concepts of H1st, and it is central to the way H1st works. Model presents a uniform interface to its users, whether the underlying model is boolean logic, fuzzy logic derived from human’s intuition, a Scikit-learn random forest, or a Tensorflow neural network. This makes it possible for you to use and combine Models in Graphs or Ensembles easily.\n",
    "\n",
    "The easiest way to understand H1st model is actually implementing it. H1st model provides all the interfaces to manage the life cycle of the model. \n",
    "\n",
    "Below is an example of H1st Model that utilizes an underlying Scikit-learn model for digits classification."
   ]
  },
  {
   "cell_type": "code",
   "execution_count": 1,
   "metadata": {},
   "outputs": [
    {
     "name": "stderr",
     "output_type": "stream",
     "text": [
      "2023-02-17 10:50:27.182315: I tensorflow/core/platform/cpu_feature_guard.cc:193] This TensorFlow binary is optimized with oneAPI Deep Neural Network Library (oneDNN) to use the following CPU instructions in performance-critical operations:  AVX2 FMA\n",
      "To enable them in other operations, rebuild TensorFlow with the appropriate compiler flags.\n",
      "2023-02-17 10:50:27.272840: W tensorflow/compiler/xla/stream_executor/platform/default/dso_loader.cc:64] Could not load dynamic library 'libcudart.so.11.0'; dlerror: libcudart.so.11.0: cannot open shared object file: No such file or directory\n",
      "2023-02-17 10:50:27.272858: I tensorflow/compiler/xla/stream_executor/cuda/cudart_stub.cc:29] Ignore above cudart dlerror if you do not have a GPU set up on your machine.\n",
      "2023-02-17 10:50:27.825969: W tensorflow/compiler/xla/stream_executor/platform/default/dso_loader.cc:64] Could not load dynamic library 'libnvinfer.so.7'; dlerror: libnvinfer.so.7: cannot open shared object file: No such file or directory\n",
      "2023-02-17 10:50:27.826027: W tensorflow/compiler/xla/stream_executor/platform/default/dso_loader.cc:64] Could not load dynamic library 'libnvinfer_plugin.so.7'; dlerror: libnvinfer_plugin.so.7: cannot open shared object file: No such file or directory\n",
      "2023-02-17 10:50:27.826034: W tensorflow/compiler/tf2tensorrt/utils/py_utils.cc:38] TF-TRT Warning: Cannot dlopen some TensorRT libraries. If you would like to use Nvidia GPU with TensorRT, please make sure the missing libraries mentioned above are installed properly.\n"
     ]
    }
   ],
   "source": [
    "\"\"\"\n",
    "This is an example of a very simple H1st ML model.\n",
    "We demonstrate here how to wrap a ScikitLearn model within an h1.Model\n",
    "\"\"\"\n",
    "\n",
    "from sklearn import svm, datasets, metrics\n",
    "from h1st.model.ml_model import MLModel\n",
    "\n",
    "\n",
    "class SimpleMLModel(MLModel):\n",
    "    def __init__(self):\n",
    "        # H1st can automatically save/load this \"self.base_model\" property if it's a SKlearn or tf.keras.Model\n",
    "        # This is the native SKLearn model\n",
    "        self.base_model = svm.SVC(gamma=0.001, C=100.)\n",
    "\n",
    "    def get_data(self):\n",
    "        digits = datasets.load_digits()\n",
    "        return {\n",
    "            \"x\": digits.data,\n",
    "            \"y\": digits.target\n",
    "        }\n",
    "\n",
    "    def explore_data(self, data):\n",
    "        pass\n",
    "\n",
    "    def prep(self, data):\n",
    "        x = data[\"x\"]\n",
    "        y = data[\"y\"]\n",
    "        num_tests = 10\n",
    "        return {\n",
    "            \"train_x\": x[num_tests:],\n",
    "            \"train_y\": y[num_tests:],\n",
    "            \"test_x\": x[0:num_tests],\n",
    "            \"test_y\": y[0:num_tests]\n",
    "        }\n",
    "\n",
    "    def train(self, prepared_data):\n",
    "        self.base_model.fit(prepared_data[\"train_x\"], prepared_data[\"train_y\"])\n",
    "\n",
    "    def evaluate(self, data):\n",
    "        pred_y = self.predict({\"x\": data[\"test_x\"]})\n",
    "        # self.metrics can also be persisted automatically by H1st\n",
    "        self.metrics = metrics.accuracy_score(data[\"test_y\"], pred_y)\n",
    "        return self.metrics\n",
    "\n",
    "    def predict(self, input_data: dict) -> dict:\n",
    "        \"\"\"\n",
    "        We expect an array of input data rows in the \"x\" field of the input_data dict\n",
    "        \"\"\"\n",
    "        return self.base_model.predict(input_data[\"x\"])"
   ]
  },
  {
   "cell_type": "markdown",
   "metadata": {},
   "source": [
    "To create an H1st model, you can start by create a new class and subclass from the `h1.Model`.\n",
    "\n",
    "Then we populate the methods to `get_data()` to get the data, `prep()` to preprocess it, and of course `train()`, `evaluate()` and `predict()`.\n",
    "\n",
    "This is how the model is used. Pay close attention to the parameters of the methods and note that the train-val data splitting is done in prep(), and that most `data` parameters should be Python dictionaries where the data scientists can creatively decide how to use the keys & values such as `train_x`, `test_x`."
   ]
  },
  {
   "cell_type": "code",
   "execution_count": 2,
   "metadata": {
    "tags": []
   },
   "outputs": [],
   "source": [
    "# ML Modelのインスタンスを作成します。\n",
    "m = SimpleMLModel()"
   ]
  },
  {
   "cell_type": "code",
   "execution_count": 3,
   "metadata": {
    "tags": []
   },
   "outputs": [
    {
     "name": "stdout",
     "output_type": "stream",
     "text": [
      "<class 'dict'>\n",
      "{'x': array([[ 0.,  0.,  5., ...,  0.,  0.,  0.],\n",
      "       [ 0.,  0.,  0., ..., 10.,  0.,  0.],\n",
      "       [ 0.,  0.,  0., ..., 16.,  9.,  0.],\n",
      "       ...,\n",
      "       [ 0.,  0.,  1., ...,  6.,  0.,  0.],\n",
      "       [ 0.,  0.,  2., ..., 12.,  0.,  0.],\n",
      "       [ 0.,  0., 10., ..., 12.,  1.,  0.]]), 'y': array([0, 1, 2, ..., 8, 9, 8])}\n"
     ]
    }
   ],
   "source": [
    "# get_data()メソッドはsklearnの手書き数字データセットを返します。\n",
    "raw_data = m.get_data()\n",
    "# dict形式で、キー'x'には手書きデータが、キー'y'には正解データが格納されています。\n",
    "print(type(raw_data))\n",
    "print(raw_data)"
   ]
  },
  {
   "cell_type": "code",
   "execution_count": 4,
   "metadata": {
    "tags": []
   },
   "outputs": [
    {
     "name": "stdout",
     "output_type": "stream",
     "text": [
      "[ 0.  0.  0.  4. 15. 12.  0.  0.  0.  0.  3. 16. 15. 14.  0.  0.  0.  0.\n",
      "  8. 13.  8. 16.  0.  0.  0.  0.  1.  6. 15. 11.  0.  0.  0.  1.  8. 13.\n",
      " 15.  1.  0.  0.  0.  9. 16. 16.  5.  0.  0.  0.  0.  3. 13. 16. 16. 11.\n",
      "  5.  0.  0.  0.  0.  3. 11. 16.  9.  0.]\n",
      "2\n"
     ]
    }
   ],
   "source": [
    "# ひとつのデータの例\n",
    "print(raw_data['x'][2])\n",
    "print(raw_data['y'][2])"
   ]
  },
  {
   "cell_type": "code",
   "execution_count": 5,
   "metadata": {
    "tags": []
   },
   "outputs": [
    {
     "data": {
      "text/plain": [
       "<Figure size 640x480 with 0 Axes>"
      ]
     },
     "metadata": {},
     "output_type": "display_data"
    },
    {
     "data": {
      "image/png": "[encoded data removed]",
      "text/plain": [
       "<Figure size 480x480 with 1 Axes>"
      ]
     },
     "metadata": {},
     "output_type": "display_data"
    }
   ],
   "source": [
    "# 試しに表示してみる\n",
    "import matplotlib\n",
    "import matplotlib.pyplot as plt\n",
    "\n",
    "plt.gray()\n",
    "plt.matshow(raw_data['x'][2].reshape(8,8))\n",
    "plt.show()"
   ]
  },
  {
   "cell_type": "code",
   "execution_count": 6,
   "metadata": {
    "tags": []
   },
   "outputs": [
    {
     "name": "stdout",
     "output_type": "stream",
     "text": [
      "(1787, 64)\n",
      "(1787,)\n",
      "(10, 64)\n",
      "(10,)\n"
     ]
    }
   ],
   "source": [
    "# prep()は1797個の手書きデータを、1787個の学習用と、10個のテスト用に分割する\n",
    "prepared_data = m.prep(raw_data)\n",
    "print(prepared_data['train_x'].shape)  # 学習用手書きデータ\n",
    "print(prepared_data['train_y'].shape)  # 学習用正解データ\n",
    "print(prepared_data['test_x'].shape)   # テスト用手書きデータ\n",
    "print(prepared_data['test_y'].shape)   # テスト用正解データ"
   ]
  },
  {
   "cell_type": "code",
   "execution_count": 7,
   "metadata": {
    "tags": []
   },
   "outputs": [
    {
     "name": "stdout",
     "output_type": "stream",
     "text": [
      "accuracy_score = 0.9000\n"
     ]
    }
   ],
   "source": [
    "# 学習を実行\n",
    "m.train(prepared_data)\n",
    "# テストを実行\n",
    "m.evaluate(prepared_data)\n",
    "# 正答率\n",
    "print(\"accuracy_score = %.4f\" % m.metrics)"
   ]
  },
  {
   "cell_type": "markdown",
   "metadata": {},
   "source": [
    "このAPIの良いところは、boolean/fuzzy logic や ML modelsなど、どんなモデルでもそのワークフローを保存できることである。"
   ]
  },
  {
   "cell_type": "code",
   "execution_count": 8,
   "metadata": {
    "tags": []
   },
   "outputs": [
    {
     "name": "stdout",
     "output_type": "stream",
     "text": [
      "Persisted to version_id = 01GSEH1ZYP25A6XR3AQKNZF0B3\n"
     ]
    }
   ],
   "source": [
    "# ここまでの結果をModelレポジトリに保存する\n",
    "version_id = m.persist()    # IDは自動付与される\n",
    "#version_id = m.persist('000VERSION')  # このようにIDを指定することもできる\n",
    "print(\"Persisted to version_id = %s\" % version_id)"
   ]
  },
  {
   "cell_type": "code",
   "execution_count": 9,
   "metadata": {
    "tags": []
   },
   "outputs": [
    {
     "name": "stdout",
     "output_type": "stream",
     "text": [
      "0.9\n"
     ]
    }
   ],
   "source": [
    "# version_idを使って結果を参照できる\n",
    "#m = MLModel().load(version_id)    # この書き方は間違い\n",
    "m.load(version_id)\n",
    "print(m.metrics)"
   ]
  },
  {
   "cell_type": "markdown",
   "metadata": {},
   "source": [
    "H1st AI supports out-of-the-box easy persisting & loading of `sklearn` and `tf.keras` models to a model repository (other types can be added).\n",
    "\n",
    "This makes it much easier to include model in larger workflows such as in H1st Graphs or Ensembles. It can enable data science teams to be much more productive.\n",
    "\n",
    "A model repository is simply a folder on local disk or S3. We call `h1.init()` specifying `MODEL_REPO_PATH`. Alternative it can be automatically picked up in the project's `config.py`."
   ]
  },
  {
   "cell_type": "code",
   "execution_count": null,
   "metadata": {},
   "outputs": [],
   "source": []
  }
 ],
 "metadata": {
  "kernelspec": {
   "display_name": "Python 3 (ipykernel)",
   "language": "python",
   "name": "python3"
  },
  "language_info": {
   "codemirror_mode": {
    "name": "ipython",
    "version": 3
   },
   "file_extension": ".py",
   "mimetype": "text/x-python",
   "name": "python",
   "nbconvert_exporter": "python",
   "pygments_lexer": "ipython3",
   "version": "3.10.6"
  }
 },
 "nbformat": 4,
 "nbformat_minor": 4
}
