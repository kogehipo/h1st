{
 "cells": [
  {
   "cell_type": "markdown",
   "id": "f3410832-bbea-43a1-9332-c72262b23623",
   "metadata": {
    "tags": []
   },
   "source": [
    "# Modeler and Model with Iris dataset"
   ]
  },
  {
   "cell_type": "markdown",
   "id": "f5ec153e-75c3-4f7d-9d49-25781e9909f9",
   "metadata": {},
   "source": [
    "次のtutorialを実行する。\n",
    "https://h1st.readthedocs.io/en/latest/tutorials/examples/modeler-model.html"
   ]
  },
  {
   "cell_type": "markdown",
   "id": "a165d92d-6a7f-4dc6-b552-e13c0c8452ae",
   "metadata": {
    "tags": []
   },
   "source": [
    "このチュートリアルでは、例としてアイリス・データセットを使用して、ModelerとModelの作り方を学びます。\n",
    "\n",
    "まず、アイリス・データセットをロードするために、load_dataメソッドを持つMLModelerを作ります。そして、LogisticRegressionを学習するために学習データを作ります。H1stフレームワークはload_dataをコールして、あなたが定義した対応するMLModelを訓練するためのメソッドをビルドします。"
   ]
  },
  {
   "cell_type": "markdown",
   "id": "e9626b52-9f86-4999-8e7a-109fd8649e73",
   "metadata": {},
   "source": [
    "This tutorial shows how you can create Modeler and Model using the iris dataset as an example. Firstly, let’s create an MLModeler with load_data to load the iris dataset and generate training data to train a LogisticRegression base model in train. The h1st framework provides the build method which calls load_data and train and produces the corresponding MLModel which you needs to define."
   ]
  },
  {
   "cell_type": "code",
   "execution_count": 1,
   "id": "e2768d1e-8bfd-4925-a88a-1bceb919d5cb",
   "metadata": {
    "tags": []
   },
   "outputs": [
    {
     "name": "stderr",
     "output_type": "stream",
     "text": [
      "/home/ma/h1st/env/lib/python3.10/site-packages/tqdm/auto.py:22: TqdmWarning: IProgress not found. Please update jupyter and ipywidgets. See https://ipywidgets.readthedocs.io/en/stable/user_install.html\n",
      "  from .autonotebook import tqdm as notebook_tqdm\n",
      "2023-02-17 17:14:02.851947: I tensorflow/core/platform/cpu_feature_guard.cc:193] This TensorFlow binary is optimized with oneAPI Deep Neural Network Library (oneDNN) to use the following CPU instructions in performance-critical operations:  AVX2 FMA\n",
      "To enable them in other operations, rebuild TensorFlow with the appropriate compiler flags.\n",
      "2023-02-17 17:14:03.333955: W tensorflow/compiler/xla/stream_executor/platform/default/dso_loader.cc:64] Could not load dynamic library 'libcudart.so.11.0'; dlerror: libcudart.so.11.0: cannot open shared object file: No such file or directory\n",
      "2023-02-17 17:14:03.334006: I tensorflow/compiler/xla/stream_executor/cuda/cudart_stub.cc:29] Ignore above cudart dlerror if you do not have a GPU set up on your machine.\n",
      "2023-02-17 17:14:04.274054: W tensorflow/compiler/xla/stream_executor/platform/default/dso_loader.cc:64] Could not load dynamic library 'libnvinfer.so.7'; dlerror: libnvinfer.so.7: cannot open shared object file: No such file or directory\n",
      "2023-02-17 17:14:04.274226: W tensorflow/compiler/xla/stream_executor/platform/default/dso_loader.cc:64] Could not load dynamic library 'libnvinfer_plugin.so.7'; dlerror: libnvinfer_plugin.so.7: cannot open shared object file: No such file or directory\n",
      "2023-02-17 17:14:04.274235: W tensorflow/compiler/tf2tensorrt/utils/py_utils.cc:38] TF-TRT Warning: Cannot dlopen some TensorRT libraries. If you would like to use Nvidia GPU with TensorRT, please make sure the missing libraries mentioned above are installed properly.\n"
     ]
    }
   ],
   "source": [
    "import os\n",
    "from typing import Any, Dict\n",
    "import tempfile\n",
    "import pandas as pd\n",
    "from sklearn import datasets\n",
    "from sklearn.linear_model import LogisticRegression\n",
    "from sklearn.preprocessing import StandardScaler\n",
    "from sklearn.metrics import f1_score\n",
    "from h1st.model.model import Model\n",
    "from h1st.model.ml_modeler import MLModeler\n",
    "from h1st.model.ml_model import MLModel\n",
    "\n",
    "class MyMLModeler(MLModeler):\n",
    "    def __init__(self):\n",
    "        self.stats = {}\n",
    "        self.example_test_data_ratio = 0.2\n",
    "\n",
    "    def load_data(self) -> Dict:\n",
    "        df_raw = datasets.load_iris(as_frame=True).frame\n",
    "        return self.generate_training_data({'df_raw': df_raw})\n",
    "\n",
    "    def preprocess(self, data):\n",
    "        self.stats['scaler'] = StandardScaler()\n",
    "        return self.stats['scaler'].fit_transform(data)\n",
    "\n",
    "    def generate_training_data(self, data: Dict[str, Any]) -> Dict[str, Any]:\n",
    "        df_raw = data['df_raw']\n",
    "        df_raw.columns = ['sepal_length','sepal_width','petal_length','petal_width', 'species']\n",
    "\n",
    "        self.stats['targets'] = ['Setosa', 'Versicolour', 'Virginica']\n",
    "        self.stats['targets_dict'] = {k: v for v, k in enumerate(self.stats['targets'])}\n",
    "\n",
    "        # Shuffle all the df_raw\n",
    "        df_raw = df_raw.sample(frac=1, random_state=5).reset_index(drop=True)\n",
    "\n",
    "        # Preprocess data\n",
    "        df_raw.loc[:, 'sepal_length':'petal_width'] = self.preprocess(\n",
    "            df_raw.loc[:, 'sepal_length':'petal_width'])\n",
    "\n",
    "        # Split to training and testing data\n",
    "        n = df_raw.shape[0]\n",
    "        n_test = int(n * self.example_test_data_ratio)\n",
    "        training_data = df_raw.iloc[n_test:, :].reset_index(drop=True)\n",
    "        test_data = df_raw.iloc[:n_test, :].reset_index(drop=True)\n",
    "\n",
    "        # Split the data to features and labels\n",
    "        train_data_x = training_data.loc[:, 'sepal_length':'petal_width']\n",
    "        train_data_y = training_data['species']\n",
    "        test_data_x = test_data.loc[:, 'sepal_length':'petal_width']\n",
    "        test_data_y = test_data['species']\n",
    "\n",
    "        # When returning many variables, it is a good practice to give them names:\n",
    "        return {\n",
    "            'train_x':train_data_x,\n",
    "            'train_y':train_data_y,\n",
    "            'test_x':test_data_x,\n",
    "            'test_y':test_data_y,\n",
    "        }\n",
    "\n",
    "    def train_base_model(self, data: Dict[str, Any]) -> Any:\n",
    "        X, y = data['train_x'], data['train_y']\n",
    "        model = LogisticRegression(random_state=0)\n",
    "        model.fit(X, y)\n",
    "        return model\n",
    "\n",
    "    def evaluate_model(self, data: Dict, model: MLModel) -> Dict:\n",
    "        super().evaluate_model(data, model)\n",
    "        X, y_true = data['test_x'], data['test_y']\n",
    "        y_pred = pd.Series(model.predict({'X': X, 'y': y_true})['species']).map(model.stats['targets_dict'])\n",
    "        return {'micro_f1_score': f1_score(y_true, y_pred, average='micro')}\n"
   ]
  },
  {
   "cell_type": "code",
   "execution_count": 3,
   "id": "92420a13-0879-4179-b073-09c16f64b274",
   "metadata": {
    "tags": []
   },
   "outputs": [
    {
     "name": "stdout",
     "output_type": "stream",
     "text": [
      "<class 'dict'>\n",
      "(120, 4)\n",
      "(120,)\n",
      "(30, 4)\n",
      "(30,)\n",
      "---------------------------\n",
      "     sepal_length  sepal_width  petal_length  petal_width\n",
      "0       -0.900681     0.788808     -1.283389    -1.315444\n",
      "1       -0.416010    -1.743357      0.137547     0.132510\n",
      "2       -0.173674    -1.052767     -0.146641    -0.262387\n",
      "3       -0.537178     1.479398     -1.283389    -1.315444\n",
      "4        1.401508     0.328414      0.535409     0.264142\n",
      "..            ...          ...           ...          ...\n",
      "115     -1.748856    -0.362176     -1.340227    -1.315444\n",
      "116      0.310998    -0.592373      0.535409     0.000878\n",
      "117      1.038005     0.558611      1.103783     1.712096\n",
      "118      2.249683    -1.052767      1.785832     1.448832\n",
      "119     -0.173674    -0.592373      0.194384     0.132510\n",
      "\n",
      "[120 rows x 4 columns]\n",
      "---------------------------\n",
      "0      0\n",
      "1      1\n",
      "2      1\n",
      "3      0\n",
      "4      1\n",
      "      ..\n",
      "115    0\n",
      "116    1\n",
      "117    2\n",
      "118    2\n",
      "119    1\n",
      "Name: species, Length: 120, dtype: int64\n",
      "---------------------------\n",
      "    sepal_length  sepal_width  petal_length  petal_width\n",
      "0      -0.052506    -0.822570      0.080709     0.000878\n",
      "1       0.310998    -1.052767      1.046945     0.264142\n",
      "2      -0.052506    -0.592373      0.762758     1.580464\n",
      "3      -1.748856     0.328414     -1.397064    -1.315444\n",
      "4       1.643844     1.249201      1.331133     1.712096\n",
      "5      -1.143017    -1.513160     -0.260315    -0.262387\n",
      "6      -1.143017    -0.131979     -1.340227    -1.315444\n",
      "7       0.068662     0.328414      0.592246     0.790671\n",
      "8      -1.021849    -0.131979     -1.226552    -1.315444\n",
      "9      -0.537178    -0.131979      0.421734     0.395774\n",
      "10     -0.294842    -0.131979      0.421734     0.395774\n",
      "11      0.553333    -0.592373      0.762758     0.395774\n",
      "12      1.522676    -0.131979      1.217458     1.185567\n",
      "13      1.765012    -0.362176      1.444807     0.790671\n",
      "14     -1.021849     0.788808     -1.226552    -1.052180\n",
      "15     -0.900681     0.558611     -1.169714    -0.920548\n",
      "16      0.553333    -0.822570      0.649083     0.790671\n",
      "17      1.886180    -0.592373      1.331133     0.922303\n",
      "18     -0.900681     1.479398     -1.283389    -1.052180\n",
      "19     -1.264185    -0.131979     -1.340227    -1.447076\n",
      "20      0.310998    -0.592373      0.137547     0.132510\n",
      "21      0.674501    -0.592373      1.046945     1.185567\n",
      "22     -0.658345     1.479398     -1.283389    -1.315444\n",
      "23      0.553333    -1.282963      0.649083     0.395774\n",
      "24     -0.294842    -0.131979      0.194384     0.132510\n",
      "25      0.432165     0.788808      0.933271     1.448832\n",
      "26      0.674501    -0.362176      0.308059     0.132510\n",
      "27     -0.173674    -0.362176      0.251221     0.132510\n",
      "28      0.310998    -0.362176      0.535409     0.264142\n",
      "29      0.674501    -0.592373      1.046945     1.317199\n",
      "---------------------------\n",
      "0     1\n",
      "1     2\n",
      "2     2\n",
      "3     0\n",
      "4     2\n",
      "5     1\n",
      "6     0\n",
      "7     1\n",
      "8     0\n",
      "9     1\n",
      "10    1\n",
      "11    2\n",
      "12    2\n",
      "13    2\n",
      "14    0\n",
      "15    0\n",
      "16    2\n",
      "17    2\n",
      "18    0\n",
      "19    0\n",
      "20    1\n",
      "21    2\n",
      "22    0\n",
      "23    1\n",
      "24    1\n",
      "25    2\n",
      "26    1\n",
      "27    1\n",
      "28    1\n",
      "29    2\n",
      "Name: species, dtype: int64\n",
      "---------------------------\n",
      "{'train_x':      sepal_length  sepal_width  petal_length  petal_width\n",
      "0       -0.900681     0.788808     -1.283389    -1.315444\n",
      "1       -0.416010    -1.743357      0.137547     0.132510\n",
      "2       -0.173674    -1.052767     -0.146641    -0.262387\n",
      "3       -0.537178     1.479398     -1.283389    -1.315444\n",
      "4        1.401508     0.328414      0.535409     0.264142\n",
      "..            ...          ...           ...          ...\n",
      "115     -1.748856    -0.362176     -1.340227    -1.315444\n",
      "116      0.310998    -0.592373      0.535409     0.000878\n",
      "117      1.038005     0.558611      1.103783     1.712096\n",
      "118      2.249683    -1.052767      1.785832     1.448832\n",
      "119     -0.173674    -0.592373      0.194384     0.132510\n",
      "\n",
      "[120 rows x 4 columns], 'train_y': 0      0\n",
      "1      1\n",
      "2      1\n",
      "3      0\n",
      "4      1\n",
      "      ..\n",
      "115    0\n",
      "116    1\n",
      "117    2\n",
      "118    2\n",
      "119    1\n",
      "Name: species, Length: 120, dtype: int64, 'test_x':     sepal_length  sepal_width  petal_length  petal_width\n",
      "0      -0.052506    -0.822570      0.080709     0.000878\n",
      "1       0.310998    -1.052767      1.046945     0.264142\n",
      "2      -0.052506    -0.592373      0.762758     1.580464\n",
      "3      -1.748856     0.328414     -1.397064    -1.315444\n",
      "4       1.643844     1.249201      1.331133     1.712096\n",
      "5      -1.143017    -1.513160     -0.260315    -0.262387\n",
      "6      -1.143017    -0.131979     -1.340227    -1.315444\n",
      "7       0.068662     0.328414      0.592246     0.790671\n",
      "8      -1.021849    -0.131979     -1.226552    -1.315444\n",
      "9      -0.537178    -0.131979      0.421734     0.395774\n",
      "10     -0.294842    -0.131979      0.421734     0.395774\n",
      "11      0.553333    -0.592373      0.762758     0.395774\n",
      "12      1.522676    -0.131979      1.217458     1.185567\n",
      "13      1.765012    -0.362176      1.444807     0.790671\n",
      "14     -1.021849     0.788808     -1.226552    -1.052180\n",
      "15     -0.900681     0.558611     -1.169714    -0.920548\n",
      "16      0.553333    -0.822570      0.649083     0.790671\n",
      "17      1.886180    -0.592373      1.331133     0.922303\n",
      "18     -0.900681     1.479398     -1.283389    -1.052180\n",
      "19     -1.264185    -0.131979     -1.340227    -1.447076\n",
      "20      0.310998    -0.592373      0.137547     0.132510\n",
      "21      0.674501    -0.592373      1.046945     1.185567\n",
      "22     -0.658345     1.479398     -1.283389    -1.315444\n",
      "23      0.553333    -1.282963      0.649083     0.395774\n",
      "24     -0.294842    -0.131979      0.194384     0.132510\n",
      "25      0.432165     0.788808      0.933271     1.448832\n",
      "26      0.674501    -0.362176      0.308059     0.132510\n",
      "27     -0.173674    -0.362176      0.251221     0.132510\n",
      "28      0.310998    -0.362176      0.535409     0.264142\n",
      "29      0.674501    -0.592373      1.046945     1.317199, 'test_y': 0     1\n",
      "1     2\n",
      "2     2\n",
      "3     0\n",
      "4     2\n",
      "5     1\n",
      "6     0\n",
      "7     1\n",
      "8     0\n",
      "9     1\n",
      "10    1\n",
      "11    2\n",
      "12    2\n",
      "13    2\n",
      "14    0\n",
      "15    0\n",
      "16    2\n",
      "17    2\n",
      "18    0\n",
      "19    0\n",
      "20    1\n",
      "21    2\n",
      "22    0\n",
      "23    1\n",
      "24    1\n",
      "25    2\n",
      "26    1\n",
      "27    1\n",
      "28    1\n",
      "29    2\n",
      "Name: species, dtype: int64}\n"
     ]
    }
   ],
   "source": [
    "# このセルはコード理解のために追加したもの\n",
    "\n",
    "# MyMLModelerの動きをテストする\n",
    "m = MyMLModeler()\n",
    "iris_data = m.load_data()\n",
    "\n",
    "# irisの元データは150個だが、ここで既に学習用120、テスト用30に分割されている。\n",
    "print(type(iris_data))\n",
    "print(iris_data['train_x'].shape)\n",
    "print(iris_data['train_y'].shape)\n",
    "print(iris_data['test_x'].shape)\n",
    "print(iris_data['test_y'].shape)\n",
    "\n",
    "# 全体を表示してみる\n",
    "print('---------------------------')\n",
    "print(iris_data['train_x'])\n",
    "print('---------------------------')\n",
    "print(iris_data['train_y'])\n",
    "print('---------------------------')\n",
    "print(iris_data['test_x'])\n",
    "print('---------------------------')\n",
    "print(iris_data['test_y'])\n",
    "print('---------------------------')\n",
    "print(iris_data)"
   ]
  },
  {
   "cell_type": "code",
   "execution_count": 5,
   "id": "70cc49b2-80dd-4ea5-bf3d-7719c83a3b0f",
   "metadata": {
    "tags": []
   },
   "outputs": [],
   "source": [
    "class MyMLModel(MLModel):\n",
    "    def preprocess(self, data: Dict[str, Any]) -> Dict[str, Any]:\n",
    "        raw_data = data['X']\n",
    "        return {\n",
    "            'X': self.stats['scaler'].transform(raw_data)\n",
    "        }\n",
    "\n",
    "    def predict(self, input_data: dict) -> dict:\n",
    "        preprocess_data = self.preprocess(input_data)\n",
    "        y = self.base_model.predict(preprocess_data['X'])\n",
    "        return {'species': [self.stats['targets'][item] for item in y]}"
   ]
  },
  {
   "cell_type": "code",
   "execution_count": 6,
   "id": "dc1957a6-8313-4aa1-9c8c-627e4c4b66a6",
   "metadata": {
    "tags": []
   },
   "outputs": [
    {
     "name": "stdout",
     "output_type": "stream",
     "text": [
      "{'micro_f1_score': 0.3}\n"
     ]
    },
    {
     "name": "stderr",
     "output_type": "stream",
     "text": [
      "X does not have valid feature names, but LogisticRegression was fitted with feature names\n"
     ]
    }
   ],
   "source": [
    "my_ml_modeler = MyMLModeler()\n",
    "my_ml_modeler.model_class = MyMLModel\n",
    "\n",
    "my_ml_model = my_ml_modeler.build_model()\n",
    "\n",
    "print(my_ml_model.metrics)"
   ]
  },
  {
   "cell_type": "code",
   "execution_count": 9,
   "id": "7538f287-182b-4036-8470-14517bc4b66d",
   "metadata": {
    "tags": []
   },
   "outputs": [
    {
     "name": "stderr",
     "output_type": "stream",
     "text": [
      "X does not have valid feature names, but LogisticRegression was fitted with feature names\n"
     ]
    },
    {
     "data": {
      "text/plain": [
       "{'species': ['Setosa', 'Versicolour']}"
      ]
     },
     "execution_count": 9,
     "metadata": {},
     "output_type": "execute_result"
    }
   ],
   "source": [
    "# 学習済みモデルに、2セットの特徴量を渡して分類を試みている\n",
    "prediction = my_ml_model.predict({\n",
    "    'X': pd.DataFrame(\n",
    "        [[5.1, 3.5, 1.5, 0.2],\n",
    "        [7.1, 3.5, 1.5, 0.6]],\n",
    "        columns=['sepal_length','sepal_width','petal_length','petal_width'])\n",
    "})\n",
    "prediction"
   ]
  },
  {
   "cell_type": "code",
   "execution_count": null,
   "id": "a928c017-d718-421e-8c5e-8c9b51fca178",
   "metadata": {},
   "outputs": [],
   "source": []
  }
 ],
 "metadata": {
  "kernelspec": {
   "display_name": "Python 3 (ipykernel)",
   "language": "python",
   "name": "python3"
  },
  "language_info": {
   "codemirror_mode": {
    "name": "ipython",
    "version": 3
   },
   "file_extension": ".py",
   "mimetype": "text/x-python",
   "name": "python",
   "nbconvert_exporter": "python",
   "pygments_lexer": "ipython3",
   "version": "3.10.6"
  }
 },
 "nbformat": 4,
 "nbformat_minor": 5
}
